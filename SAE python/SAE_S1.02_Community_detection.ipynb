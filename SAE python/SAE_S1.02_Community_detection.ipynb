{
 "cells": [
  {
   "cell_type": "markdown",
   "id": "7a913ddf",
   "metadata": {},
   "source": [
    "Travaille du groupe composé de :David Antoine et Adam Ben Omrane \n",
    "\n",
    "<h1>Question 1 : </h1>\n",
    "\n",
    "\n",
    "On souhaite faire une fonction similaire à la fonction `dico_reseau` de la SAÉ S01.01 mais avec un autre algorithme.<br/>\n",
    "\n",
    "\n",
    "Définir la fonction `create_network` prenant en paramètre un tableau de couples d'amis et retournant le réseau associé.<br/>\n",
    "\n",
    "\n",
    "<strong>Important</strong> : L'appel de la fonction `create_network` doit retourner le même dictionnaire (seul l'ordre des amis peut varier) que l'appel de la fonction `dico_reseau` si le tableau de couples d'amis est le même.<br/>\n",
    "\n",
    "\n",
    "La construction du dictionnaire se fera en parcourrant une seule fois le tableau de couples d'amis.<br/>\n",
    "Pour chaque couple (p1, p2),  on ajoutera directement p2 à la liste des amis de p1 si ce dernier est une clé du dictionnaire. Sinon, on ajoutera dans le dictionnaire la clé p1 avec p2 comme seul ami. On procèdera de même avec p2."
   ]
  },
  {
   "cell_type": "code",
   "execution_count": null,
   "id": "c1aa81c1",
   "metadata": {},
   "outputs": [],
   "source": [
    "def create_network(tab):\n",
    "    \"\"\"\n",
    "    Cette fonction prend en paramètre un tableau d'amis\n",
    "    et retourne un dictionnaire avec chaque prénom comme clé et leurs amis en valeur \n",
    "    \n",
    "    tab : tableau de couple d'amis\n",
    "    \"\"\"\n",
    "    "
   ]
  },
  {
   "cell_type": "code",
   "execution_count": null,
   "id": "e98e371e",
   "metadata": {},
   "outputs": [],
   "source": []
  },
  {
   "cell_type": "markdown",
   "id": "4bbce68d",
   "metadata": {},
   "source": [
    "<h1>Question 2 :</h1>\n",
    "    \n",
    "Comparer théoriquement et expériementalement les fonctions dico_reseau et create_network."
   ]
  },
  {
   "cell_type": "markdown",
   "id": "67807073",
   "metadata": {},
   "source": [
    "<h1>Question 3 : </h1>\n",
    "\n",
    "\n",
    "Définir la fonction  `get_people` prenant en paramètre un réseau et retournant la liste des personnes de ce réseau dans un tableau.\n",
    "L'appel de cette fonction avec le réseau donné en exemple doit retourner par exemple le tableau [\"Alice\", \"Bob\", \"Charlie\", \"Dominique\"]. L'ordre n'a pas d'importance."
   ]
  },
  {
   "cell_type": "code",
   "execution_count": 3,
   "id": "dfb2b824",
   "metadata": {},
   "outputs": [],
   "source": [
    "def get_people(reseau):\n",
    "    \"\"\"\n",
    "    Cette fonction prend un réseau d'amis et retourn la liste des personne présent dans le réseau.\n",
    "    \n",
    "    reseau : dictionnaire réprésentant le réseau d'amis\n",
    "    \"\"\"\n",
    "    return list(reseau)"
   ]
  },
  {
   "cell_type": "markdown",
   "id": "501c69f8",
   "metadata": {},
   "source": [
    "<h1>Question 4 :</h1>\n",
    "\n",
    "\n",
    "Définir la fonction `are_friends` prenant en paramètre un réseau et deux personnes. La fonction devra retourner `True` si les deux personnes sont amies, et `False` sinon.\n",
    "L'appel de cette fonction avec le résau donné en exemple et les personnes `\"Alice\"` et `\"Bob\"` doit retourner `True`. Par contre, avec les personnes `\"Alice\"` et `\"Charlie\"`, la fonction doit retourner `False`."
   ]
  },
  {
   "cell_type": "code",
   "execution_count": 5,
   "id": "72a97ac6",
   "metadata": {},
   "outputs": [],
   "source": [
    "def are_friends(reseau,p1,p2):\n",
    "    \"\"\"\n",
    "    Cette fonction vérifie si 2 personne sont amis dans un réseau donner en paramètre,\n",
    "    retourne True si ils sont amis et False sinon\n",
    "    \n",
    "    reseau : dictionnaire réprésentant le réseau d'amis\n",
    "    p1 et p2 : personnes présente dans le réseau\n",
    "\n",
    "    \"\"\"\n",
    "    i = 0\n",
    "    while i < len(reseau):\n",
    "        j = 0\n",
    "        while j < len(reseau[p1]):\n",
    "            if reseau[p1][j] == p2:\n",
    "                return True\n",
    "            j += 1\n",
    "        j = 0\n",
    "        while j < len(reseau[p2]):\n",
    "            if reseau[p2][j] == p1:\n",
    "                return True\n",
    "            j += 1\n",
    "        i += 1\n",
    "    return False\n"
   ]
  },
  {
   "cell_type": "markdown",
   "id": "945e5d49",
   "metadata": {},
   "source": [
    "<h1>Question 5 : </h1>\n",
    "\n",
    "\n",
    "Définir la fonction `all_his_friends` prenant en paramètre réseau, une personne et un groupe de personnes et retournant `True` si la personne est amie avec toutes les personnes du groupe, et `False` sinon.\n",
    "L'appel de cette fonction avec le réseau donné en exemple, la personne `\"Alice\"`, et le groupe [\"Bob\", \"Dominique\"] doit retourner `True` alors qu'elle doit retourner `False` pour le groupe [\"Bob\", \"Charlie\"]."
   ]
  },
  {
   "cell_type": "code",
   "execution_count": 8,
   "id": "f06c09df",
   "metadata": {},
   "outputs": [],
   "source": [
    "def all_his_friends(reseau,p,groupe):\n",
    "    \"\"\"\n",
    "    Cette fonction intéroge une personne et retourne True si une personne(p) est amis\n",
    "    avec toutes les personnes d'un groupe d'amis(groupe)\n",
    "    par rapport a un réseau d'amis\n",
    "    \n",
    "    reseau : dictionnaire réprésentant le réseau d'amis\n",
    "    p : personne intéroger\n",
    "    groupe : groupe d'amis\n",
    "    \"\"\"\n",
    "    i = 0 \n",
    "    while i < len(groupe):\n",
    "        if not are_friends(reseau,p,groupe[i]):\n",
    "            return False\n",
    "        i += 1\n",
    "    return True\n"
   ]
  },
  {
   "cell_type": "markdown",
   "id": "e2dbe8f2",
   "metadata": {},
   "source": [
    "<h1>Question 6</h1>\n",
    "\n",
    "\n",
    "Définir la fonction `is_a_community` prenant en paramètre un dictionnaire modélisant le réseau et un groupe de<br/>\n",
    "personnes (tableau de personnes) et retourne `True` si ce groupe est une communauté, et `False` sinon.<br/>\n",
    "L'appel de cette fonction avec le réseau donné en exemple doit retourner `True` pour le groupe `[\"Alice\", \"Bob\", \"Dominique\"]`, et False pour le groupe `[\"Alice\", \"Bob\", \"Charlie\"]`."
   ]
  },
  {
   "cell_type": "code",
   "execution_count": 4,
   "id": "353facc3",
   "metadata": {},
   "outputs": [],
   "source": [
    "def is_a_community(reseau,groupe):\n",
    "    \"\"\"\n",
    "    Cette fonction intéroge un groupe d'amis pour savoir si ce gropue est une communauté d'un réseau\n",
    "    \n",
    "    reseau : dictionnaire réprésentant le réseau d'amis\n",
    "    groupe : groupe d'amis\n",
    "    \"\"\"\n",
    "    i = 0\n",
    "    \n",
    "    while i < len(groupe):\n",
    "        j = 0\n",
    "        tab = []\n",
    "        while j < len(groupe):\n",
    "            if groupe[j] != groupe[i]:\n",
    "                tab.append(groupe[j])\n",
    "            j += 1\n",
    "        if not all_his_friends(reseau,groupe[i],tab):\n",
    "            return False\n",
    "    \n",
    "        i += 1\n",
    "    return True"
   ]
  },
  {
   "cell_type": "markdown",
   "id": "8f1ea2d2",
   "metadata": {},
   "source": [
    "<h1>Question 7</h1>\n",
    "\n",
    "\n",
    "Pour trouver une communauté maximale (au sens où il n'existe personne qui puisse être ajoutée dans cette communauté) dans un réseau, une heuristique est la suivante :\n",
    "\n",
    "On part d'une communauté vide.\n",
    "On considère les personnes les unes après les autres. Pour chacune des personnes, si celle-ci est amie avec tous les membres de la communauté déjà créée, alors on l'ajoute à la communauté.\n",
    "\n",
    "Définir la fonction `find_community` prenant en paramètre un réseau et un groupe de personnes et retournant une communauté en fonction de l'heuristique décrite juste au-dessus. L'ordre des personnes sera donné par l'ordre de celles-ci dans le tableau correspondant au groupe.\n",
    "L'appel de cette fonction avec le réseau donné en exemple doit retourner :\n",
    "\n",
    "\n",
    "`[\"Alice\", \"Bob\", \"Dominique\"]` pour le groupe `[\"Alice\", \"Bob\", \"Charlie\", \"Dominique\"]`,\n",
    "\n",
    "`[\"Charlie\", \"Bob\"]` pour le groupe `[\"Charlie\", \"Alice\", \"Bob\", \"Dominique\"]`,\n",
    "\n",
    "`[\"Charlie\"]` pour le groupe `[\"Charlie\", \"Alice\", \"Dominique\"]`."
   ]
  },
  {
   "cell_type": "code",
   "execution_count": 6,
   "id": "cad0306c",
   "metadata": {},
   "outputs": [],
   "source": [
    "def find_community(reseau,groupe):\n",
    "    \"\"\"\n",
    "    Cette fonction prend un réseau d'amis et un groupe d'amis et retourne un tableau d'une communauté (tableau dont toutes les personne sont amis).\n",
    "    \n",
    "    reseau : dictionnaire réprésentant le réseau d'amis\n",
    "    groupe : groupe d'amis\n",
    "    \"\"\"\n",
    "    i = 1\n",
    "    tab = []\n",
    "    tab.append(groupe[0])\n",
    "    while i < len(groupe):\n",
    "        if all_his_friends(reseau,groupe[i],tab):\n",
    "            tab.append(groupe[i])\n",
    "        i += 1\n",
    "    return tab    "
   ]
  },
  {
   "cell_type": "markdown",
   "id": "e189b3eb",
   "metadata": {},
   "source": [
    "<h1>Question 8 :</h1>\n",
    "\n",
    "\n",
    "Définir la fonction `order_by_decreasing_popularity` prenant en paramètre un réseau et un groupe de personnes et triant le groupe de personnes selon la popularité (nombre d'amis) décroissante.\n",
    "L'appel de cette fonction avec le réseau donné en exemple et le groupe `[\"Alice\", \"Bob\", \"Charlie\"]` doit trier le groupe dans l'ordre `[\"Bob\", \"Alice\", \"Charlie\"]`."
   ]
  },
  {
   "cell_type": "code",
   "execution_count": 8,
   "id": "fc41d715",
   "metadata": {},
   "outputs": [],
   "source": [
    "def order_by_decreasing_popularity(reseau,groupe):\n",
    "     \"\"\"\n",
    "    Cette fonction prend un réseau d'amis, un groupe d'amis et retourne un tableau des même personne présente dans le groupe \n",
    "    mais dans l'orde décroissante de leur nombre d'amis.\n",
    "    \n",
    "    reseau : dictionnaire réprésentant le réseau d'amis\n",
    "    groupe : groupe d'amis\n",
    "    \"\"\"\n",
    "    i = 0\n",
    "    tab = []\n",
    "    while i < len(groupe):\n",
    "        j = 0\n",
    "        max = groupe[j]\n",
    "        indice_max = j\n",
    "        while j < len(groupe)-1:\n",
    "            if len(reseau[max]) < len(reseau[groupe[j+1]]):\n",
    "                max = groupe[j+1]\n",
    "                indice_max = j+1\n",
    "            j += 1\n",
    "        tab.append(max)\n",
    "        groupe[indice_max] = groupe[len(groupe) - 1]\n",
    "        groupe.pop()\n",
    "    return tab"
   ]
  },
  {
   "cell_type": "markdown",
   "id": "70c61cc6",
   "metadata": {},
   "source": [
    "<h1>Question 9 :</h1>\n",
    "\n",
    "\n",
    "Définir la fonction `find_community_by_decreasing_popularity` prenant en paramètre un réseau. La fonction doit trier l'ensemble des personnes du réseau selon l'ordre décroissant de popularité puis retourner la communauté trouvée en appliquant l'heuristique de construction de communauté maximale expliquée plus haut.\n",
    "L'appel de cette fonction avec le réseau donné en exemple doit retourner la communauté `[\"Bob\", \"Alice\", \"Dominique\"]` (l'ordre dans le tableau n'a pas d'importance)."
   ]
  },
  {
   "cell_type": "code",
   "execution_count": 10,
   "id": "4ebd4f14",
   "metadata": {},
   "outputs": [
    {
     "name": "stdout",
     "output_type": "stream",
     "text": [
      "['Bob', 'Alice', 'Dominique']\n"
     ]
    }
   ],
   "source": [
    "def find_community_by_decreasing_popularity(reseau):\n",
    "     \"\"\"\n",
    "    Cette fonction prend un reseau d'amis \n",
    "    et retourne un tableau de la plus grande communauté (tableau dont toutes les personne sont amis) du reseau.\n",
    "    \n",
    "    reseau : dictionnaire réprésentant le réseau d'amis.\n",
    "    \n",
    "    \"\"\"\n",
    "    \n",
    "    i = 0\n",
    "    groupe = get_people(reseau)\n",
    "    tab = order_by_decreasing_popularity(reseau,groupe)\n",
    "    tab = find_community(reseau,tab)\n",
    "    return tab\n",
    "reseau = {\n",
    "    \"Alice\" : [\"Bob\", \"Dominique\"],\n",
    "    \"Bob\" : [\"Alice\", \"Charlie\", \"Dominique\"],\n",
    "    \"Charlie\" : [\"Bob\"],\n",
    "    \"Dominique\" : [\"Alice\", \"Bob\"]\n",
    "    }\n",
    "print(find_community_by_decreasing_popularity(reseau))"
   ]
  },
  {
   "cell_type": "markdown",
   "id": "3edf80eb",
   "metadata": {},
   "source": [
    "<h1>Question 10 : </h1>\n",
    "\n",
    "\n",
    "Par définition, si une personne appartient à cette communauté, alors la communauté est un sous-ensemble des amis de cette personne plus elle-même.\n",
    "On peut donc modifier l'heuristique précédente pour constuire une communauté maximale :\n",
    "\n",
    "<li>on choisit une personne du réseau,</li>\n",
    "\n",
    "\n",
    "<li>on crée une communauté contenant juste cette personne,</li>\n",
    "\n",
    "\n",
    "<li>on considère les amis de cette personne par ordre de popularité décroissante. Pour chacune de ces personnes, si celle-ci est amie avec tous les membres de la communauté déjà créée, alors on l'ajoute à la communauté.</li>\n",
    "\n",
    "\n",
    "\n",
    "Si l'on part d'une personne la plus populaire, alors cette heuristique est la même que la précédente (attention cependant, les communautés retournées peuvent ne pas être les mêmes si plusieurs personnes ont le même nombre d'amis).\n",
    "Définir la fonction `find_community_from_person` prenant en paramètre un réseau et une personne, et retournant une communauté maximale contenant cette personne selon l'heuristique décrite ci-dessus.\n",
    "L'appel de cette fonction avec le réseau donné en exemple et la personne \"Alice\" doit retourner la communauté `[\"Alice\", \"Bob\", \"Dominique\"]`. Avec la personne \"Charlie\", la fonction doit retourner `[\"Charlie\", \"Bob\"]`."
   ]
  },
  {
   "cell_type": "code",
   "execution_count": 12,
   "id": "300b7e6c",
   "metadata": {},
   "outputs": [],
   "source": [
    "def find_community_from_person(reseau,p):\n",
    "    \"\"\"\n",
    "    Cette fonction prend un reseau d'amis et une personne\n",
    "    et retourne un tableau d'une communauté (tableau dont toutes les personne sont amis) à partir de la personne.\n",
    "    \n",
    "    reseau : dictionnaire réprésentant le réseau d'amis.\n",
    "    p : personne\n",
    "    \"\"\"\n",
    "    communaute = [p]\n",
    "    tab = order_by_decreasing_popularity(reseau,reseau[p])\n",
    "    i = 0 \n",
    "    v_f = True\n",
    "    while i < len(tab):\n",
    "        j = 0\n",
    "        while j < len(communaute):\n",
    "            if not are_friends(reseau,tab[i],communaute[j]):\n",
    "                v_f = False\n",
    "            j += 1\n",
    "        if v_f:\n",
    "            communaute.append(tab[i])\n",
    "        i += 1\n",
    "    return communaute\n",
    "            \n"
   ]
  },
  {
   "cell_type": "markdown",
   "id": "c0189eed",
   "metadata": {},
   "source": [
    "<h1>Question 11 :</h1>\n",
    "\n",
    "\n",
    "Comparer théoriquement et expérimentalement les deux heuristiques de construction, celle donnée par la fonction `find_community_by_decreasing_popularity` et celles donnée par la fonction `find_community_from_person` appliquée à une personne la plus populaire (la recherche de la personne la plus populaire sera prise en compte dans la complexité)."
   ]
  },
  {
   "cell_type": "code",
   "execution_count": null,
   "id": "883995af",
   "metadata": {},
   "outputs": [],
   "source": []
  },
  {
   "cell_type": "markdown",
   "id": "0f8fd1f3",
   "metadata": {},
   "source": [
    "<h1>Question 12 :</h1>\n",
    "\n",
    "\n",
    "Définir la fonction `find_max_community` prenant en paramètre un réseau et appliquant l'heuristique de recherche de communauté maximale donnée par `find_community_from_person` pour toutes les personnes du réseau. La fonction doit retourner la plus grande communauté trouvée.\n",
    "L'appel de cette fonction avec le réseau donné en exemple doit retourner la communauté `[\"Alice\", \"Bob\", \"Dominique\"]` (peu importe l'ordre)."
   ]
  },
  {
   "cell_type": "code",
   "execution_count": 14,
   "id": "e8c84bed",
   "metadata": {},
   "outputs": [],
   "source": [
    "def find_max_community(reseau):\n",
    "    \"\"\"\n",
    "    Cette fonction prend en paramètre un réseau et retourne la plus grande communauté\n",
    "    \n",
    "    reseau : dictionnaire réprésentant le réseau d'amis.\n",
    "    \"\"\"\n",
    "    i = 0\n",
    "    groupe = get_people(reseau)\n",
    "    communaute_max = find_community_from_person(reseau,groupe[i])\n",
    "    while i < len(groupe)-1:\n",
    "        if len(communaute_max) < len(find_community_from_person(reseau,groupe[i+1])):\n",
    "            communaute_max = find_community_from_person(reseau,groupe[i])\n",
    "            \n",
    "        i += 1\n",
    "    return communaute_max"
   ]
  }
 ],
 "metadata": {
  "kernelspec": {
   "display_name": "Python 3 (ipykernel)",
   "language": "python",
   "name": "python3"
  },
  "language_info": {
   "codemirror_mode": {
    "name": "ipython",
    "version": 3
   },
   "file_extension": ".py",
   "mimetype": "text/x-python",
   "name": "python",
   "nbconvert_exporter": "python",
   "pygments_lexer": "ipython3",
   "version": "3.9.13"
  }
 },
 "nbformat": 4,
 "nbformat_minor": 5
}
